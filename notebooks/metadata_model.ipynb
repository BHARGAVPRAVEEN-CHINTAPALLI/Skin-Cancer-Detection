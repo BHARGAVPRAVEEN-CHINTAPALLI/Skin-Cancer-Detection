{
 "cells": [
  {
   "cell_type": "code",
   "execution_count": 1,
   "metadata": {
    "tags": []
   },
   "outputs": [],
   "source": [
    "import pandas as pd\n",
    "import numpy as np\n",
    "# from sklearn.preprocessing import StandardScaler\n",
    "from catboost import CatBoostClassifier, Pool\n",
    "from sklearn.metrics import accuracy_score, log_loss, roc_auc_score, f1_score\n",
    "from sklearn.model_selection import StratifiedGroupKFold\n",
    "import matplotlib.pyplot as plt\n",
    "from sklearn.preprocessing import StandardScaler\n",
    "\n",
    "import warnings\n",
    "warnings.filterwarnings('ignore')"
   ]
  },
  {
   "cell_type": "code",
   "execution_count": 2,
   "metadata": {
    "tags": []
   },
   "outputs": [
    {
     "data": {
      "text/html": [
       "<div>\n",
       "<style scoped>\n",
       "    .dataframe tbody tr th:only-of-type {\n",
       "        vertical-align: middle;\n",
       "    }\n",
       "\n",
       "    .dataframe tbody tr th {\n",
       "        vertical-align: top;\n",
       "    }\n",
       "\n",
       "    .dataframe thead th {\n",
       "        text-align: right;\n",
       "    }\n",
       "</style>\n",
       "<table border=\"1\" class=\"dataframe\">\n",
       "  <thead>\n",
       "    <tr style=\"text-align: right;\">\n",
       "      <th></th>\n",
       "      <th>isic_id</th>\n",
       "      <th>target</th>\n",
       "      <th>patient_id</th>\n",
       "      <th>age_approx</th>\n",
       "      <th>sex</th>\n",
       "      <th>clin_size_long_diam_mm</th>\n",
       "      <th>tbp_lv_A</th>\n",
       "      <th>tbp_lv_Aext</th>\n",
       "      <th>tbp_lv_B</th>\n",
       "      <th>tbp_lv_Bext</th>\n",
       "      <th>...</th>\n",
       "      <th>tbp_lv_location_simple_Torso Front</th>\n",
       "      <th>tbp_lv_location_simple_Unknown</th>\n",
       "      <th>anatom_site_general_anterior torso</th>\n",
       "      <th>anatom_site_general_head/neck</th>\n",
       "      <th>anatom_site_general_lower extremity</th>\n",
       "      <th>anatom_site_general_posterior torso</th>\n",
       "      <th>anatom_site_general_upper extremity</th>\n",
       "      <th>anatom_site_general_nan</th>\n",
       "      <th>tbp_tile_type_3D: XP</th>\n",
       "      <th>tbp_tile_type_3D: white</th>\n",
       "    </tr>\n",
       "  </thead>\n",
       "  <tbody>\n",
       "    <tr>\n",
       "      <th>0</th>\n",
       "      <td>ISIC_0015670</td>\n",
       "      <td>0</td>\n",
       "      <td>IP_1235828</td>\n",
       "      <td>60.0</td>\n",
       "      <td>1.0</td>\n",
       "      <td>3.04</td>\n",
       "      <td>20.244422</td>\n",
       "      <td>16.261975</td>\n",
       "      <td>26.922447</td>\n",
       "      <td>23.954773</td>\n",
       "      <td>...</td>\n",
       "      <td>0</td>\n",
       "      <td>0</td>\n",
       "      <td>0</td>\n",
       "      <td>0</td>\n",
       "      <td>1</td>\n",
       "      <td>0</td>\n",
       "      <td>0</td>\n",
       "      <td>0</td>\n",
       "      <td>0</td>\n",
       "      <td>1</td>\n",
       "    </tr>\n",
       "    <tr>\n",
       "      <th>1</th>\n",
       "      <td>ISIC_0015845</td>\n",
       "      <td>0</td>\n",
       "      <td>IP_8170065</td>\n",
       "      <td>60.0</td>\n",
       "      <td>1.0</td>\n",
       "      <td>1.10</td>\n",
       "      <td>31.712570</td>\n",
       "      <td>25.364740</td>\n",
       "      <td>26.331000</td>\n",
       "      <td>24.549290</td>\n",
       "      <td>...</td>\n",
       "      <td>0</td>\n",
       "      <td>0</td>\n",
       "      <td>0</td>\n",
       "      <td>1</td>\n",
       "      <td>0</td>\n",
       "      <td>0</td>\n",
       "      <td>0</td>\n",
       "      <td>0</td>\n",
       "      <td>0</td>\n",
       "      <td>1</td>\n",
       "    </tr>\n",
       "    <tr>\n",
       "      <th>2</th>\n",
       "      <td>ISIC_0015864</td>\n",
       "      <td>0</td>\n",
       "      <td>IP_6724798</td>\n",
       "      <td>60.0</td>\n",
       "      <td>1.0</td>\n",
       "      <td>3.40</td>\n",
       "      <td>22.575830</td>\n",
       "      <td>17.128170</td>\n",
       "      <td>37.970460</td>\n",
       "      <td>33.485410</td>\n",
       "      <td>...</td>\n",
       "      <td>0</td>\n",
       "      <td>0</td>\n",
       "      <td>0</td>\n",
       "      <td>0</td>\n",
       "      <td>0</td>\n",
       "      <td>1</td>\n",
       "      <td>0</td>\n",
       "      <td>0</td>\n",
       "      <td>1</td>\n",
       "      <td>0</td>\n",
       "    </tr>\n",
       "    <tr>\n",
       "      <th>3</th>\n",
       "      <td>ISIC_0015902</td>\n",
       "      <td>0</td>\n",
       "      <td>IP_4111386</td>\n",
       "      <td>65.0</td>\n",
       "      <td>1.0</td>\n",
       "      <td>3.22</td>\n",
       "      <td>14.242329</td>\n",
       "      <td>12.164757</td>\n",
       "      <td>21.448144</td>\n",
       "      <td>21.121356</td>\n",
       "      <td>...</td>\n",
       "      <td>1</td>\n",
       "      <td>0</td>\n",
       "      <td>1</td>\n",
       "      <td>0</td>\n",
       "      <td>0</td>\n",
       "      <td>0</td>\n",
       "      <td>0</td>\n",
       "      <td>0</td>\n",
       "      <td>1</td>\n",
       "      <td>0</td>\n",
       "    </tr>\n",
       "    <tr>\n",
       "      <th>4</th>\n",
       "      <td>ISIC_0024200</td>\n",
       "      <td>0</td>\n",
       "      <td>IP_8313778</td>\n",
       "      <td>55.0</td>\n",
       "      <td>1.0</td>\n",
       "      <td>2.73</td>\n",
       "      <td>24.725520</td>\n",
       "      <td>20.057470</td>\n",
       "      <td>26.464900</td>\n",
       "      <td>25.710460</td>\n",
       "      <td>...</td>\n",
       "      <td>1</td>\n",
       "      <td>0</td>\n",
       "      <td>1</td>\n",
       "      <td>0</td>\n",
       "      <td>0</td>\n",
       "      <td>0</td>\n",
       "      <td>0</td>\n",
       "      <td>0</td>\n",
       "      <td>0</td>\n",
       "      <td>1</td>\n",
       "    </tr>\n",
       "  </tbody>\n",
       "</table>\n",
       "<p>5 rows × 99 columns</p>\n",
       "</div>"
      ],
      "text/plain": [
       "        isic_id  target  patient_id  age_approx  sex  clin_size_long_diam_mm  \\\n",
       "0  ISIC_0015670       0  IP_1235828        60.0  1.0                    3.04   \n",
       "1  ISIC_0015845       0  IP_8170065        60.0  1.0                    1.10   \n",
       "2  ISIC_0015864       0  IP_6724798        60.0  1.0                    3.40   \n",
       "3  ISIC_0015902       0  IP_4111386        65.0  1.0                    3.22   \n",
       "4  ISIC_0024200       0  IP_8313778        55.0  1.0                    2.73   \n",
       "\n",
       "    tbp_lv_A  tbp_lv_Aext   tbp_lv_B  tbp_lv_Bext  ...  \\\n",
       "0  20.244422    16.261975  26.922447    23.954773  ...   \n",
       "1  31.712570    25.364740  26.331000    24.549290  ...   \n",
       "2  22.575830    17.128170  37.970460    33.485410  ...   \n",
       "3  14.242329    12.164757  21.448144    21.121356  ...   \n",
       "4  24.725520    20.057470  26.464900    25.710460  ...   \n",
       "\n",
       "   tbp_lv_location_simple_Torso Front  tbp_lv_location_simple_Unknown  \\\n",
       "0                                   0                               0   \n",
       "1                                   0                               0   \n",
       "2                                   0                               0   \n",
       "3                                   1                               0   \n",
       "4                                   1                               0   \n",
       "\n",
       "   anatom_site_general_anterior torso  anatom_site_general_head/neck  \\\n",
       "0                                   0                              0   \n",
       "1                                   0                              1   \n",
       "2                                   0                              0   \n",
       "3                                   1                              0   \n",
       "4                                   1                              0   \n",
       "\n",
       "   anatom_site_general_lower extremity  anatom_site_general_posterior torso  \\\n",
       "0                                    1                                    0   \n",
       "1                                    0                                    0   \n",
       "2                                    0                                    1   \n",
       "3                                    0                                    0   \n",
       "4                                    0                                    0   \n",
       "\n",
       "   anatom_site_general_upper extremity  anatom_site_general_nan  \\\n",
       "0                                    0                        0   \n",
       "1                                    0                        0   \n",
       "2                                    0                        0   \n",
       "3                                    0                        0   \n",
       "4                                    0                        0   \n",
       "\n",
       "   tbp_tile_type_3D: XP  tbp_tile_type_3D: white  \n",
       "0                     0                        1  \n",
       "1                     0                        1  \n",
       "2                     1                        0  \n",
       "3                     1                        0  \n",
       "4                     0                        1  \n",
       "\n",
       "[5 rows x 99 columns]"
      ]
     },
     "execution_count": 2,
     "metadata": {},
     "output_type": "execute_result"
    }
   ],
   "source": [
    "df = pd.read_csv(\"final_train_data.csv\",  low_memory=False)\n",
    "df.head()"
   ]
  },
  {
   "cell_type": "code",
   "execution_count": 3,
   "metadata": {
    "tags": []
   },
   "outputs": [
    {
     "name": "stdout",
     "output_type": "stream",
     "text": [
      "<class 'pandas.core.frame.DataFrame'>\n",
      "RangeIndex: 401059 entries, 0 to 401058\n",
      "Data columns (total 99 columns):\n",
      " #   Column                               Non-Null Count   Dtype   \n",
      "---  ------                               --------------   -----   \n",
      " 0   isic_id                              401059 non-null  category\n",
      " 1   target                               401059 non-null  int64   \n",
      " 2   patient_id                           401059 non-null  category\n",
      " 3   age_approx                           401059 non-null  float64 \n",
      " 4   sex                                  401059 non-null  float64 \n",
      " 5   clin_size_long_diam_mm               401059 non-null  float64 \n",
      " 6   tbp_lv_A                             401059 non-null  float64 \n",
      " 7   tbp_lv_Aext                          401059 non-null  float64 \n",
      " 8   tbp_lv_B                             401059 non-null  float64 \n",
      " 9   tbp_lv_Bext                          401059 non-null  float64 \n",
      " 10  tbp_lv_C                             401059 non-null  float64 \n",
      " 11  tbp_lv_Cext                          401059 non-null  float64 \n",
      " 12  tbp_lv_H                             401059 non-null  float64 \n",
      " 13  tbp_lv_Hext                          401059 non-null  float64 \n",
      " 14  tbp_lv_L                             401059 non-null  float64 \n",
      " 15  tbp_lv_Lext                          401059 non-null  float64 \n",
      " 16  tbp_lv_areaMM2                       401059 non-null  float64 \n",
      " 17  tbp_lv_area_perim_ratio              401059 non-null  float64 \n",
      " 18  tbp_lv_color_std_mean                401059 non-null  float64 \n",
      " 19  tbp_lv_deltaA                        401059 non-null  float64 \n",
      " 20  tbp_lv_deltaB                        401059 non-null  float64 \n",
      " 21  tbp_lv_deltaL                        401059 non-null  float64 \n",
      " 22  tbp_lv_deltaLB                       401059 non-null  float64 \n",
      " 23  tbp_lv_deltaLBnorm                   401059 non-null  float64 \n",
      " 24  tbp_lv_eccentricity                  401059 non-null  float64 \n",
      " 25  tbp_lv_minorAxisMM                   401059 non-null  float64 \n",
      " 26  tbp_lv_nevi_confidence               401059 non-null  float64 \n",
      " 27  tbp_lv_norm_border                   401059 non-null  float64 \n",
      " 28  tbp_lv_norm_color                    401059 non-null  float64 \n",
      " 29  tbp_lv_perimeterMM                   401059 non-null  float64 \n",
      " 30  tbp_lv_radial_color_std_max          401059 non-null  float64 \n",
      " 31  tbp_lv_stdL                          401059 non-null  float64 \n",
      " 32  tbp_lv_stdLExt                       401059 non-null  float64 \n",
      " 33  tbp_lv_symm_2axis                    401059 non-null  float64 \n",
      " 34  tbp_lv_symm_2axis_angle              401059 non-null  int64   \n",
      " 35  tbp_lv_x                             401059 non-null  float64 \n",
      " 36  tbp_lv_y                             401059 non-null  float64 \n",
      " 37  tbp_lv_z                             401059 non-null  float64 \n",
      " 38  lesion_id                            401059 non-null  category\n",
      " 39  iddx_full                            401059 non-null  category\n",
      " 40  iddx_1                               401059 non-null  category\n",
      " 41  iddx_2                               401059 non-null  category\n",
      " 42  iddx_3                               401059 non-null  category\n",
      " 43  iddx_4                               401059 non-null  category\n",
      " 44  mel_mitotic_index                    401059 non-null  category\n",
      " 45  mel_thick_mm                         63 non-null      float64 \n",
      " 46  tbp_lv_dnn_lesion_confidence         401059 non-null  float64 \n",
      " 47  lesion_size_ratio                    401059 non-null  float64 \n",
      " 48  lesion_shape_index                   401059 non-null  float64 \n",
      " 49  hue_contrast                         401059 non-null  float64 \n",
      " 50  luminance_contrast                   401059 non-null  float64 \n",
      " 51  lesion_color_difference              401059 non-null  float64 \n",
      " 52  border_complexity                    401059 non-null  float64 \n",
      " 53  color_uniformity                     374877 non-null  float64 \n",
      " 54  3d_position_distance                 401059 non-null  float64 \n",
      " 55  perimeter_to_area_ratio              401059 non-null  float64 \n",
      " 56  lesion_visibility_score              401059 non-null  float64 \n",
      " 57  symmetry_border_consistency          401059 non-null  float64 \n",
      " 58  color_consistency                    401059 non-null  float64 \n",
      " 59  size_age_interaction                 401059 non-null  float64 \n",
      " 60  hue_color_std_interaction            401059 non-null  float64 \n",
      " 61  lesion_severity_index                401059 non-null  float64 \n",
      " 62  shape_complexity_index               401059 non-null  float64 \n",
      " 63  color_contrast_index                 401059 non-null  float64 \n",
      " 64  log_lesion_area                      401059 non-null  float64 \n",
      " 65  normalized_lesion_size               401059 non-null  float64 \n",
      " 66  mean_hue_difference                  401059 non-null  float64 \n",
      " 67  std_dev_contrast                     401059 non-null  float64 \n",
      " 68  color_shape_composite_index          401059 non-null  float64 \n",
      " 69  3d_lesion_orientation                401059 non-null  float64 \n",
      " 70  overall_color_difference             401059 non-null  float64 \n",
      " 71  symmetry_perimeter_interaction       401059 non-null  float64 \n",
      " 72  comprehensive_lesion_index           401059 non-null  float64 \n",
      " 73  color_variance_ratio                 401059 non-null  float64 \n",
      " 74  border_color_interaction             401059 non-null  float64 \n",
      " 75  size_color_contrast_ratio            401059 non-null  float64 \n",
      " 76  age_normalized_nevi_confidence       401059 non-null  float64 \n",
      " 77  color_asymmetry_index                401059 non-null  float64 \n",
      " 78  3d_volume_approximation              401059 non-null  float64 \n",
      " 79  color_range                          401059 non-null  float64 \n",
      " 80  shape_color_consistency              401059 non-null  float64 \n",
      " 81  border_length_ratio                  401059 non-null  float64 \n",
      " 82  age_size_symmetry_index              401059 non-null  float64 \n",
      " 83  tbp_lv_location_simple_Head & Neck   401059 non-null  int64   \n",
      " 84  tbp_lv_location_simple_Left Arm      401059 non-null  int64   \n",
      " 85  tbp_lv_location_simple_Left Leg      401059 non-null  int64   \n",
      " 86  tbp_lv_location_simple_Right Arm     401059 non-null  int64   \n",
      " 87  tbp_lv_location_simple_Right Leg     401059 non-null  int64   \n",
      " 88  tbp_lv_location_simple_Torso Back    401059 non-null  int64   \n",
      " 89  tbp_lv_location_simple_Torso Front   401059 non-null  int64   \n",
      " 90  tbp_lv_location_simple_Unknown       401059 non-null  int64   \n",
      " 91  anatom_site_general_anterior torso   401059 non-null  int64   \n",
      " 92  anatom_site_general_head/neck        401059 non-null  int64   \n",
      " 93  anatom_site_general_lower extremity  401059 non-null  int64   \n",
      " 94  anatom_site_general_posterior torso  401059 non-null  int64   \n",
      " 95  anatom_site_general_upper extremity  401059 non-null  int64   \n",
      " 96  anatom_site_general_nan              401059 non-null  int64   \n",
      " 97  tbp_tile_type_3D: XP                 401059 non-null  int64   \n",
      " 98  tbp_tile_type_3D: white              401059 non-null  int64   \n",
      "dtypes: category(9), float64(72), int64(18)\n",
      "memory usage: 292.6 MB\n"
     ]
    }
   ],
   "source": [
    "df[df.select_dtypes(include=['object']).columns] = df.select_dtypes(include=['object']).astype('category')\n",
    "\n",
    "df.info()"
   ]
  },
  {
   "cell_type": "code",
   "execution_count": 4,
   "metadata": {
    "tags": []
   },
   "outputs": [
    {
     "name": "stdout",
     "output_type": "stream",
     "text": [
      "             isic_id  patient_id   lesion_id iddx_full  iddx_1   iddx_2  \\\n",
      "0       ISIC_0015670  IP_1235828     unknown    Benign  Benign  unknown   \n",
      "1       ISIC_0015845  IP_8170065  IL_6727506    Benign  Benign  unknown   \n",
      "2       ISIC_0015864  IP_6724798     unknown    Benign  Benign  unknown   \n",
      "3       ISIC_0015902  IP_4111386     unknown    Benign  Benign  unknown   \n",
      "4       ISIC_0024200  IP_8313778     unknown    Benign  Benign  unknown   \n",
      "...              ...         ...         ...       ...     ...      ...   \n",
      "401054  ISIC_9999937  IP_1140263  IL_9520694    Benign  Benign  unknown   \n",
      "401055  ISIC_9999951  IP_5678181     unknown    Benign  Benign  unknown   \n",
      "401056  ISIC_9999960  IP_0076153  IL_9852274    Benign  Benign  unknown   \n",
      "401057  ISIC_9999964  IP_5231513     unknown    Benign  Benign  unknown   \n",
      "401058  ISIC_9999967  IP_6426047     unknown    Benign  Benign  unknown   \n",
      "\n",
      "         iddx_3   iddx_4 mel_mitotic_index  \n",
      "0       unknown  unknown           unknown  \n",
      "1       unknown  unknown           unknown  \n",
      "2       unknown  unknown           unknown  \n",
      "3       unknown  unknown           unknown  \n",
      "4       unknown  unknown           unknown  \n",
      "...         ...      ...               ...  \n",
      "401054  unknown  unknown           unknown  \n",
      "401055  unknown  unknown           unknown  \n",
      "401056  unknown  unknown           unknown  \n",
      "401057  unknown  unknown           unknown  \n",
      "401058  unknown  unknown           unknown  \n",
      "\n",
      "[401059 rows x 9 columns]\n"
     ]
    }
   ],
   "source": [
    "print(df[df.select_dtypes(include=['category']).columns])"
   ]
  },
  {
   "cell_type": "markdown",
   "metadata": {},
   "source": [
    "# Catboost"
   ]
  },
  {
   "cell_type": "code",
   "execution_count": 6,
   "metadata": {
    "tags": []
   },
   "outputs": [],
   "source": [
    "# %pip install catboost"
   ]
  },
  {
   "cell_type": "code",
   "execution_count": 7,
   "metadata": {
    "tags": []
   },
   "outputs": [],
   "source": [
    "# Function to plot training and validation metrics live\n",
    "def plot_live(train_losses, val_losses, val_f1s, val_roc_aucs):\n",
    "    plt.figure(figsize=(15, 5))\n",
    "    \n",
    "    # Plot loss\n",
    "    plt.subplot(1, 3, 1)\n",
    "    plt.plot(train_losses, label='Train Loss')\n",
    "    plt.plot(val_losses, label='Validation Loss')\n",
    "    plt.title('Loss')\n",
    "    plt.xlabel('Epochs')\n",
    "    plt.ylabel('Loss')\n",
    "    plt.legend()\n",
    "\n",
    "    # Plot F1-score\n",
    "    plt.subplot(1, 3, 2)\n",
    "    # plt.plot(train_f1s, label='Train F1')\n",
    "    plt.plot(val_f1s, label='Validation F1')\n",
    "    plt.title('F1-Score')\n",
    "    plt.xlabel('Epochs')\n",
    "    plt.ylabel('F1-Score')\n",
    "    plt.legend()\n",
    "\n",
    "    # Plot ROC-AUC\n",
    "    plt.subplot(1, 3, 3)\n",
    "    plt.plot(val_roc_aucs, label='Validation AUC-ROC')\n",
    "    plt.title('AUC-ROC')\n",
    "    plt.xlabel('Epochs')\n",
    "    plt.ylabel('AUC-ROC')\n",
    "    plt.legend()\n",
    "\n",
    "    plt.show()"
   ]
  },
  {
   "cell_type": "code",
   "execution_count": 8,
   "metadata": {
    "tags": []
   },
   "outputs": [],
   "source": [
    "# scaler = StandardScaler()\n",
    "# scaler.fit(X_train)\n",
    "# X_train = scaler.transform(X_train)\n",
    "# X_val = scaler.transform(X_val)\n",
    "# Separate features, labels, and groups\n",
    "X = df.drop(columns=['target', 'patient_id', \"isic_id\"])  # Metadata features\n",
    "y = df['target']  # Labels (targets)\n",
    "groups = df['patient_id']  # Group by patient ID\n",
    "cat_features = [\"lesion_id\", \"iddx_full\", \"iddx_1\", \"iddx_2\", \"iddx_3\", \"iddx_4\", \"mel_mitotic_index\"]\n"
   ]
  },
  {
   "cell_type": "markdown",
   "metadata": {},
   "source": [
    "### Train catboost"
   ]
  },
  {
   "cell_type": "code",
   "execution_count": 10,
   "metadata": {
    "tags": []
   },
   "outputs": [
    {
     "name": "stdout",
     "output_type": "stream",
     "text": [
      "train size: (320847, 96), val size: (320847,)\n",
      "train size: (80212, 96), val size: (80212,)\n"
     ]
    }
   ],
   "source": [
    "from sklearn.model_selection import train_test_split\n",
    "X_train, X_val, Y_train, Y_val = train_test_split(X,y, test_size=0.2, random_state=42, stratify=y)  # Stratified split to maintain class balance\n",
    "print(f'train size: {X_train.shape}, val size: {Y_train.shape}')\n",
    "print(f'train size: {X_val.shape}, val size: {Y_val.shape}')"
   ]
  },
  {
   "cell_type": "code",
   "execution_count": 11,
   "metadata": {
    "tags": []
   },
   "outputs": [
    {
     "data": {
      "text/plain": [
       "target\n",
       "0    320533\n",
       "1       314\n",
       "Name: count, dtype: int64"
      ]
     },
     "execution_count": 11,
     "metadata": {},
     "output_type": "execute_result"
    }
   ],
   "source": [
    "Y_train.value_counts()"
   ]
  },
  {
   "cell_type": "code",
   "execution_count": 12,
   "metadata": {
    "tags": []
   },
   "outputs": [
    {
     "data": {
      "text/plain": [
       "target\n",
       "0    80133\n",
       "1       79\n",
       "Name: count, dtype: int64"
      ]
     },
     "execution_count": 12,
     "metadata": {},
     "output_type": "execute_result"
    }
   ],
   "source": [
    "Y_val.value_counts()"
   ]
  },
  {
   "cell_type": "code",
   "execution_count": 13,
   "metadata": {
    "tags": []
   },
   "outputs": [
    {
     "name": "stdout",
     "output_type": "stream",
     "text": [
      "Learning rate set to 0.131815\n",
      "0:\tlearn: 0.2284748\ttest: 0.2283484\tbest: 0.2283484 (0)\ttotal: 873ms\tremaining: 14m 32s\n",
      "100:\tlearn: 0.0000020\ttest: 0.0000013\tbest: 0.0000013 (100)\ttotal: 1m 5s\tremaining: 9m 47s\n",
      "200:\tlearn: 0.0000016\ttest: 0.0000011\tbest: 0.0000011 (200)\ttotal: 1m 56s\tremaining: 7m 42s\n",
      "300:\tlearn: 0.0000016\ttest: 0.0000010\tbest: 0.0000010 (300)\ttotal: 2m 38s\tremaining: 6m 9s\n",
      "400:\tlearn: 0.0000015\ttest: 0.0000010\tbest: 0.0000010 (400)\ttotal: 3m 19s\tremaining: 4m 57s\n",
      "500:\tlearn: 0.0000015\ttest: 0.0000010\tbest: 0.0000010 (496)\ttotal: 4m 1s\tremaining: 4m\n",
      "600:\tlearn: 0.0000015\ttest: 0.0000010\tbest: 0.0000010 (600)\ttotal: 4m 44s\tremaining: 3m 8s\n",
      "700:\tlearn: 0.0000015\ttest: 0.0000010\tbest: 0.0000010 (700)\ttotal: 5m 26s\tremaining: 2m 19s\n",
      "800:\tlearn: 0.0000015\ttest: 0.0000010\tbest: 0.0000010 (800)\ttotal: 6m 7s\tremaining: 1m 31s\n",
      "900:\tlearn: 0.0000015\ttest: 0.0000009\tbest: 0.0000009 (900)\ttotal: 6m 49s\tremaining: 45s\n",
      "999:\tlearn: 0.0000014\ttest: 0.0000009\tbest: 0.0000009 (999)\ttotal: 7m 30s\tremaining: 0us\n",
      "\n",
      "bestTest = 9.459777873e-07\n",
      "bestIteration = 999\n",
      "\n"
     ]
    }
   ],
   "source": [
    "# Convert all object columns to categorical type\n",
    "X_train[X_train.select_dtypes(include=['object']).columns] = X_train.select_dtypes(include=['object']).astype('category')\n",
    "X_val[X_val.select_dtypes(include=['object']).columns] = X_val.select_dtypes(include=['object']).astype('category')\n",
    "\n",
    "model2 = CatBoostClassifier(verbose=100,\n",
    "\t\t\t\t\t\titerations=1000,\n",
    "\t\t\t\t\t\tloss_function='Logloss',\n",
    "\t\t\t\t\t\tearly_stopping_rounds=50,\n",
    "\t\t\t\t\t\tcustom_metric=['AUC'])\n",
    "\n",
    "model2.fit(X_train, Y_train,\n",
    "\t\tcat_features=cat_features,\n",
    "\t\teval_set=(X_val, Y_val))\n",
    "\n",
    "y_train = model2.predict(X_train)\n",
    "y_val = model2.predict(X_val)\n"
   ]
  },
  {
   "cell_type": "code",
   "execution_count": 14,
   "metadata": {
    "tags": []
   },
   "outputs": [],
   "source": [
    "y_train = model2.predict(X_train)\n",
    "y_val = model2.predict(X_val)"
   ]
  },
  {
   "cell_type": "code",
   "execution_count": null,
   "metadata": {
    "tags": []
   },
   "outputs": [
    {
     "name": "stdout",
     "output_type": "stream",
     "text": [
      "Training fold 1/5...\n"
     ]
    },
    {
     "data": {
      "application/vnd.jupyter.widget-view+json": {
       "model_id": "e7dbb5559af14d25aa8667dcfc529ced",
       "version_major": 2,
       "version_minor": 0
      },
      "text/plain": [
       "MetricVisualizer(layout=Layout(align_self='stretch', height='500px'))"
      ]
     },
     "metadata": {},
     "output_type": "display_data"
    },
    {
     "name": "stdout",
     "output_type": "stream",
     "text": [
      "Fold 1/5, Train Loss: 0.0007, Val Loss: 0.0007, Train Accuracy: 1.0000, Val Accuracy: 1.0000\n",
      "Training fold 2/5...\n"
     ]
    },
    {
     "data": {
      "application/vnd.jupyter.widget-view+json": {
       "model_id": "c1c2ee4a3fcb41e8899954cd82c46058",
       "version_major": 2,
       "version_minor": 0
      },
      "text/plain": [
       "MetricVisualizer(layout=Layout(align_self='stretch', height='500px'))"
      ]
     },
     "metadata": {},
     "output_type": "display_data"
    },
    {
     "name": "stdout",
     "output_type": "stream",
     "text": [
      "Fold 2/5, Train Loss: 0.0008, Val Loss: 0.0008, Train Accuracy: 1.0000, Val Accuracy: 1.0000\n",
      "Training fold 3/5...\n"
     ]
    },
    {
     "data": {
      "application/vnd.jupyter.widget-view+json": {
       "model_id": "b556e27daa8a477282a32058caf087c0",
       "version_major": 2,
       "version_minor": 0
      },
      "text/plain": [
       "MetricVisualizer(layout=Layout(align_self='stretch', height='500px'))"
      ]
     },
     "metadata": {},
     "output_type": "display_data"
    },
    {
     "name": "stdout",
     "output_type": "stream",
     "text": [
      "Fold 3/5, Train Loss: 0.0007, Val Loss: 0.0007, Train Accuracy: 1.0000, Val Accuracy: 1.0000\n",
      "Training fold 4/5...\n"
     ]
    },
    {
     "data": {
      "application/vnd.jupyter.widget-view+json": {
       "model_id": "35e443275bc3433989887a8d985c33f1",
       "version_major": 2,
       "version_minor": 0
      },
      "text/plain": [
       "MetricVisualizer(layout=Layout(align_self='stretch', height='500px'))"
      ]
     },
     "metadata": {},
     "output_type": "display_data"
    }
   ],
   "source": [
    "# Initialize StratifiedGroupKFold\n",
    "k = 5  # Number of splits\n",
    "skf = StratifiedGroupKFold(n_splits=k)\n",
    "\n",
    "train_losses, val_losses, train_f1s, val_f1s, val_roc_aucs = [], [], [], [], []\n",
    "train_accuracies, val_accuracies = [], [] \n",
    "# Initialize CatBoost Classifier\n",
    "model = CatBoostClassifier(\n",
    "        iterations=100,  # Adjust as needed\n",
    "        max_depth=7,\n",
    "        learning_rate=0.01,\n",
    "        # min_data_in_leaf=24,\n",
    "        eval_metric='Logloss',  # Main metric\n",
    "        use_best_model=True,\n",
    "        custom_metric=['F1', 'AUC'],  # Additional metrics\n",
    "    )\n",
    "\n",
    "for fold, (train_idx, val_idx) in enumerate(skf.split(X, y, groups)):\n",
    "    print(f\"Training fold {fold + 1}/{k}...\")\n",
    "    train_loss,val_loss, train_acc, val_acc, val_f1, val_auc= 0,0,0,0,0,0\n",
    "    # Create train and validation sets\n",
    "    X_train, X_val = X.iloc[train_idx], X.iloc[val_idx]\n",
    "    y_train, y_val = y.iloc[train_idx], y.iloc[val_idx]\n",
    "    # scaler = StandardScaler()\n",
    "    # scaler.fit(X_train)\n",
    "    # X_train = scaler.transform(X_train)\n",
    "    # X_val = scaler.transform(X_val)\n",
    "    # # Convert to CatBoost Pool\n",
    "    train_pool = Pool(X_train, y_train, cat_features= cat_features)\n",
    "    val_pool = Pool(X_val, y_val,cat_features= cat_features)\n",
    "    \n",
    "    # Train the model\n",
    "    model.fit(train_pool,\n",
    "              eval_set=val_pool, \n",
    "              verbose=False, \n",
    "              plot=True)\n",
    "    \n",
    "    # Predict on train and validation sets\n",
    "    # train_preds = model.predict_proba(X_train)[:, 1]\n",
    "    # val_preds = model.predict_proba(X_val)[:, 1]\n",
    "    train_preds_proba = model.predict_proba(X_train)[:, 1]\n",
    "    val_preds_proba = model.predict_proba(X_val)[:, 1]\n",
    "    train_preds = (train_preds_proba >= 0.5).astype(int)\n",
    "    val_preds = (val_preds_proba >= 0.5).astype(int) \n",
    "    \n",
    "    # Calculate training and validation loss (log loss)\n",
    "    train_loss = log_loss(y_train, train_preds_proba)\n",
    "    val_loss = log_loss(y_val, val_preds_proba)\n",
    "    # train_loss = model.get_best_score()['learn']['Logloss']\n",
    "    # val_loss = model.get_best_score()['validation']['Logloss']\n",
    "    train_f1 = f1_score(y_train, train_preds)\n",
    "    val_f1 = f1_score(y_val, val_preds)\n",
    "    train_auc = roc_auc_score(y_train, train_preds_proba)\n",
    "    val_auc = roc_auc_score(y_val, val_preds_proba)\n",
    "    \n",
    "    # Calculate training and validation accuracy\n",
    "    train_acc = accuracy_score(y_train, model.predict(X_train))\n",
    "    val_acc = accuracy_score(y_val, model.predict(X_val))\n",
    "    \n",
    "    # Track metrics\n",
    "    train_losses.append(train_loss)\n",
    "    val_losses.append(val_loss)\n",
    "    train_accuracies.append(train_acc)\n",
    "    val_accuracies.append(val_acc)\n",
    "    val_f1s.append(val_f1)\n",
    "    val_roc_aucs.append(val_auc)\n",
    "\n",
    "    print(f\"Fold {fold + 1}/{k}, Train Loss: {train_loss:.4f}, Val Loss: {val_loss:.4f}, \"\n",
    "          f\"Train Accuracy: {train_acc:.4f}, Val Accuracy: {val_acc:.4f}\")\n",
    "    \n",
    "    # Plot live metrics\n",
    "    # plot_live(train_losses, val_losses, val_f1s, val_roc_aucs)\n",
    "\n",
    "# Final evaluation on all folds\n",
    "print(f\"Average Train Loss: {np.mean(train_losses):.4f}, Average Validation Loss: {np.mean(val_losses):.4f}\")\n",
    "print(f\"Average Train Accuracy: {np.mean(train_accuracies):.4f}, Average Validation Accuracy: {np.mean(val_accuracies):.4f}\")"
   ]
  },
  {
   "cell_type": "code",
   "execution_count": null,
   "metadata": {
    "tags": []
   },
   "outputs": [],
   "source": [
    "model.save_model('catboost_model.cbm')\n",
    "# model.load_model(\"notebooks/catboost_model.cbm\")"
   ]
  },
  {
   "cell_type": "code",
   "execution_count": null,
   "metadata": {
    "tags": []
   },
   "outputs": [],
   "source": [
    "import catboost\n",
    "import matplotlib.pyplot as plt\n",
    "import pandas as pd\n",
    "\n",
    "# Assuming you have a trained CatBoost model\n",
    "# model = catboost.CatBoostClassifier()\n",
    "# model.fit(X_train, y_train)\n",
    "\n",
    "# Get feature importance\n",
    "feature_importance = model2.get_feature_importance()\n",
    "features = X_train.columns  # Assuming X_train is a DataFrame\n",
    "\n",
    "# Create a DataFrame for easy plotting\n",
    "importance_df = pd.DataFrame({'Feature': features, 'Importance': feature_importance})\n",
    "\n",
    "# Sort by importance\n",
    "importance_df = importance_df.sort_values(by='Importance', ascending=True)\n",
    "\n",
    "# Plot the feature importance\n",
    "plt.figure(figsize=(25, 20))\n",
    "plt.barh(importance_df['Feature'], importance_df['Importance'])\n",
    "plt.title('CatBoost Feature Importance')\n",
    "plt.xlabel('Importance')\n",
    "plt.ylabel('Feature')\n",
    "plt.show()\n"
   ]
  },
  {
   "cell_type": "code",
   "execution_count": null,
   "metadata": {},
   "outputs": [],
   "source": []
  }
 ],
 "metadata": {
  "availableInstances": [
   {
    "_defaultOrder": 0,
    "_isFastLaunch": true,
    "category": "General purpose",
    "gpuNum": 0,
    "hideHardwareSpecs": false,
    "memoryGiB": 4,
    "name": "ml.t3.medium",
    "vcpuNum": 2
   },
   {
    "_defaultOrder": 1,
    "_isFastLaunch": false,
    "category": "General purpose",
    "gpuNum": 0,
    "hideHardwareSpecs": false,
    "memoryGiB": 8,
    "name": "ml.t3.large",
    "vcpuNum": 2
   },
   {
    "_defaultOrder": 2,
    "_isFastLaunch": false,
    "category": "General purpose",
    "gpuNum": 0,
    "hideHardwareSpecs": false,
    "memoryGiB": 16,
    "name": "ml.t3.xlarge",
    "vcpuNum": 4
   },
   {
    "_defaultOrder": 3,
    "_isFastLaunch": false,
    "category": "General purpose",
    "gpuNum": 0,
    "hideHardwareSpecs": false,
    "memoryGiB": 32,
    "name": "ml.t3.2xlarge",
    "vcpuNum": 8
   },
   {
    "_defaultOrder": 4,
    "_isFastLaunch": true,
    "category": "General purpose",
    "gpuNum": 0,
    "hideHardwareSpecs": false,
    "memoryGiB": 8,
    "name": "ml.m5.large",
    "vcpuNum": 2
   },
   {
    "_defaultOrder": 5,
    "_isFastLaunch": false,
    "category": "General purpose",
    "gpuNum": 0,
    "hideHardwareSpecs": false,
    "memoryGiB": 16,
    "name": "ml.m5.xlarge",
    "vcpuNum": 4
   },
   {
    "_defaultOrder": 6,
    "_isFastLaunch": false,
    "category": "General purpose",
    "gpuNum": 0,
    "hideHardwareSpecs": false,
    "memoryGiB": 32,
    "name": "ml.m5.2xlarge",
    "vcpuNum": 8
   },
   {
    "_defaultOrder": 7,
    "_isFastLaunch": false,
    "category": "General purpose",
    "gpuNum": 0,
    "hideHardwareSpecs": false,
    "memoryGiB": 64,
    "name": "ml.m5.4xlarge",
    "vcpuNum": 16
   },
   {
    "_defaultOrder": 8,
    "_isFastLaunch": false,
    "category": "General purpose",
    "gpuNum": 0,
    "hideHardwareSpecs": false,
    "memoryGiB": 128,
    "name": "ml.m5.8xlarge",
    "vcpuNum": 32
   },
   {
    "_defaultOrder": 9,
    "_isFastLaunch": false,
    "category": "General purpose",
    "gpuNum": 0,
    "hideHardwareSpecs": false,
    "memoryGiB": 192,
    "name": "ml.m5.12xlarge",
    "vcpuNum": 48
   },
   {
    "_defaultOrder": 10,
    "_isFastLaunch": false,
    "category": "General purpose",
    "gpuNum": 0,
    "hideHardwareSpecs": false,
    "memoryGiB": 256,
    "name": "ml.m5.16xlarge",
    "vcpuNum": 64
   },
   {
    "_defaultOrder": 11,
    "_isFastLaunch": false,
    "category": "General purpose",
    "gpuNum": 0,
    "hideHardwareSpecs": false,
    "memoryGiB": 384,
    "name": "ml.m5.24xlarge",
    "vcpuNum": 96
   },
   {
    "_defaultOrder": 12,
    "_isFastLaunch": false,
    "category": "General purpose",
    "gpuNum": 0,
    "hideHardwareSpecs": false,
    "memoryGiB": 8,
    "name": "ml.m5d.large",
    "vcpuNum": 2
   },
   {
    "_defaultOrder": 13,
    "_isFastLaunch": false,
    "category": "General purpose",
    "gpuNum": 0,
    "hideHardwareSpecs": false,
    "memoryGiB": 16,
    "name": "ml.m5d.xlarge",
    "vcpuNum": 4
   },
   {
    "_defaultOrder": 14,
    "_isFastLaunch": false,
    "category": "General purpose",
    "gpuNum": 0,
    "hideHardwareSpecs": false,
    "memoryGiB": 32,
    "name": "ml.m5d.2xlarge",
    "vcpuNum": 8
   },
   {
    "_defaultOrder": 15,
    "_isFastLaunch": false,
    "category": "General purpose",
    "gpuNum": 0,
    "hideHardwareSpecs": false,
    "memoryGiB": 64,
    "name": "ml.m5d.4xlarge",
    "vcpuNum": 16
   },
   {
    "_defaultOrder": 16,
    "_isFastLaunch": false,
    "category": "General purpose",
    "gpuNum": 0,
    "hideHardwareSpecs": false,
    "memoryGiB": 128,
    "name": "ml.m5d.8xlarge",
    "vcpuNum": 32
   },
   {
    "_defaultOrder": 17,
    "_isFastLaunch": false,
    "category": "General purpose",
    "gpuNum": 0,
    "hideHardwareSpecs": false,
    "memoryGiB": 192,
    "name": "ml.m5d.12xlarge",
    "vcpuNum": 48
   },
   {
    "_defaultOrder": 18,
    "_isFastLaunch": false,
    "category": "General purpose",
    "gpuNum": 0,
    "hideHardwareSpecs": false,
    "memoryGiB": 256,
    "name": "ml.m5d.16xlarge",
    "vcpuNum": 64
   },
   {
    "_defaultOrder": 19,
    "_isFastLaunch": false,
    "category": "General purpose",
    "gpuNum": 0,
    "hideHardwareSpecs": false,
    "memoryGiB": 384,
    "name": "ml.m5d.24xlarge",
    "vcpuNum": 96
   },
   {
    "_defaultOrder": 20,
    "_isFastLaunch": false,
    "category": "General purpose",
    "gpuNum": 0,
    "hideHardwareSpecs": true,
    "memoryGiB": 0,
    "name": "ml.geospatial.interactive",
    "supportedImageNames": [
     "sagemaker-geospatial-v1-0"
    ],
    "vcpuNum": 0
   },
   {
    "_defaultOrder": 21,
    "_isFastLaunch": true,
    "category": "Compute optimized",
    "gpuNum": 0,
    "hideHardwareSpecs": false,
    "memoryGiB": 4,
    "name": "ml.c5.large",
    "vcpuNum": 2
   },
   {
    "_defaultOrder": 22,
    "_isFastLaunch": false,
    "category": "Compute optimized",
    "gpuNum": 0,
    "hideHardwareSpecs": false,
    "memoryGiB": 8,
    "name": "ml.c5.xlarge",
    "vcpuNum": 4
   },
   {
    "_defaultOrder": 23,
    "_isFastLaunch": false,
    "category": "Compute optimized",
    "gpuNum": 0,
    "hideHardwareSpecs": false,
    "memoryGiB": 16,
    "name": "ml.c5.2xlarge",
    "vcpuNum": 8
   },
   {
    "_defaultOrder": 24,
    "_isFastLaunch": false,
    "category": "Compute optimized",
    "gpuNum": 0,
    "hideHardwareSpecs": false,
    "memoryGiB": 32,
    "name": "ml.c5.4xlarge",
    "vcpuNum": 16
   },
   {
    "_defaultOrder": 25,
    "_isFastLaunch": false,
    "category": "Compute optimized",
    "gpuNum": 0,
    "hideHardwareSpecs": false,
    "memoryGiB": 72,
    "name": "ml.c5.9xlarge",
    "vcpuNum": 36
   },
   {
    "_defaultOrder": 26,
    "_isFastLaunch": false,
    "category": "Compute optimized",
    "gpuNum": 0,
    "hideHardwareSpecs": false,
    "memoryGiB": 96,
    "name": "ml.c5.12xlarge",
    "vcpuNum": 48
   },
   {
    "_defaultOrder": 27,
    "_isFastLaunch": false,
    "category": "Compute optimized",
    "gpuNum": 0,
    "hideHardwareSpecs": false,
    "memoryGiB": 144,
    "name": "ml.c5.18xlarge",
    "vcpuNum": 72
   },
   {
    "_defaultOrder": 28,
    "_isFastLaunch": false,
    "category": "Compute optimized",
    "gpuNum": 0,
    "hideHardwareSpecs": false,
    "memoryGiB": 192,
    "name": "ml.c5.24xlarge",
    "vcpuNum": 96
   },
   {
    "_defaultOrder": 29,
    "_isFastLaunch": true,
    "category": "Accelerated computing",
    "gpuNum": 1,
    "hideHardwareSpecs": false,
    "memoryGiB": 16,
    "name": "ml.g4dn.xlarge",
    "vcpuNum": 4
   },
   {
    "_defaultOrder": 30,
    "_isFastLaunch": false,
    "category": "Accelerated computing",
    "gpuNum": 1,
    "hideHardwareSpecs": false,
    "memoryGiB": 32,
    "name": "ml.g4dn.2xlarge",
    "vcpuNum": 8
   },
   {
    "_defaultOrder": 31,
    "_isFastLaunch": false,
    "category": "Accelerated computing",
    "gpuNum": 1,
    "hideHardwareSpecs": false,
    "memoryGiB": 64,
    "name": "ml.g4dn.4xlarge",
    "vcpuNum": 16
   },
   {
    "_defaultOrder": 32,
    "_isFastLaunch": false,
    "category": "Accelerated computing",
    "gpuNum": 1,
    "hideHardwareSpecs": false,
    "memoryGiB": 128,
    "name": "ml.g4dn.8xlarge",
    "vcpuNum": 32
   },
   {
    "_defaultOrder": 33,
    "_isFastLaunch": false,
    "category": "Accelerated computing",
    "gpuNum": 4,
    "hideHardwareSpecs": false,
    "memoryGiB": 192,
    "name": "ml.g4dn.12xlarge",
    "vcpuNum": 48
   },
   {
    "_defaultOrder": 34,
    "_isFastLaunch": false,
    "category": "Accelerated computing",
    "gpuNum": 1,
    "hideHardwareSpecs": false,
    "memoryGiB": 256,
    "name": "ml.g4dn.16xlarge",
    "vcpuNum": 64
   },
   {
    "_defaultOrder": 35,
    "_isFastLaunch": false,
    "category": "Accelerated computing",
    "gpuNum": 1,
    "hideHardwareSpecs": false,
    "memoryGiB": 61,
    "name": "ml.p3.2xlarge",
    "vcpuNum": 8
   },
   {
    "_defaultOrder": 36,
    "_isFastLaunch": false,
    "category": "Accelerated computing",
    "gpuNum": 4,
    "hideHardwareSpecs": false,
    "memoryGiB": 244,
    "name": "ml.p3.8xlarge",
    "vcpuNum": 32
   },
   {
    "_defaultOrder": 37,
    "_isFastLaunch": false,
    "category": "Accelerated computing",
    "gpuNum": 8,
    "hideHardwareSpecs": false,
    "memoryGiB": 488,
    "name": "ml.p3.16xlarge",
    "vcpuNum": 64
   },
   {
    "_defaultOrder": 38,
    "_isFastLaunch": false,
    "category": "Accelerated computing",
    "gpuNum": 8,
    "hideHardwareSpecs": false,
    "memoryGiB": 768,
    "name": "ml.p3dn.24xlarge",
    "vcpuNum": 96
   },
   {
    "_defaultOrder": 39,
    "_isFastLaunch": false,
    "category": "Memory Optimized",
    "gpuNum": 0,
    "hideHardwareSpecs": false,
    "memoryGiB": 16,
    "name": "ml.r5.large",
    "vcpuNum": 2
   },
   {
    "_defaultOrder": 40,
    "_isFastLaunch": false,
    "category": "Memory Optimized",
    "gpuNum": 0,
    "hideHardwareSpecs": false,
    "memoryGiB": 32,
    "name": "ml.r5.xlarge",
    "vcpuNum": 4
   },
   {
    "_defaultOrder": 41,
    "_isFastLaunch": false,
    "category": "Memory Optimized",
    "gpuNum": 0,
    "hideHardwareSpecs": false,
    "memoryGiB": 64,
    "name": "ml.r5.2xlarge",
    "vcpuNum": 8
   },
   {
    "_defaultOrder": 42,
    "_isFastLaunch": false,
    "category": "Memory Optimized",
    "gpuNum": 0,
    "hideHardwareSpecs": false,
    "memoryGiB": 128,
    "name": "ml.r5.4xlarge",
    "vcpuNum": 16
   },
   {
    "_defaultOrder": 43,
    "_isFastLaunch": false,
    "category": "Memory Optimized",
    "gpuNum": 0,
    "hideHardwareSpecs": false,
    "memoryGiB": 256,
    "name": "ml.r5.8xlarge",
    "vcpuNum": 32
   },
   {
    "_defaultOrder": 44,
    "_isFastLaunch": false,
    "category": "Memory Optimized",
    "gpuNum": 0,
    "hideHardwareSpecs": false,
    "memoryGiB": 384,
    "name": "ml.r5.12xlarge",
    "vcpuNum": 48
   },
   {
    "_defaultOrder": 45,
    "_isFastLaunch": false,
    "category": "Memory Optimized",
    "gpuNum": 0,
    "hideHardwareSpecs": false,
    "memoryGiB": 512,
    "name": "ml.r5.16xlarge",
    "vcpuNum": 64
   },
   {
    "_defaultOrder": 46,
    "_isFastLaunch": false,
    "category": "Memory Optimized",
    "gpuNum": 0,
    "hideHardwareSpecs": false,
    "memoryGiB": 768,
    "name": "ml.r5.24xlarge",
    "vcpuNum": 96
   },
   {
    "_defaultOrder": 47,
    "_isFastLaunch": false,
    "category": "Accelerated computing",
    "gpuNum": 1,
    "hideHardwareSpecs": false,
    "memoryGiB": 16,
    "name": "ml.g5.xlarge",
    "vcpuNum": 4
   },
   {
    "_defaultOrder": 48,
    "_isFastLaunch": false,
    "category": "Accelerated computing",
    "gpuNum": 1,
    "hideHardwareSpecs": false,
    "memoryGiB": 32,
    "name": "ml.g5.2xlarge",
    "vcpuNum": 8
   },
   {
    "_defaultOrder": 49,
    "_isFastLaunch": false,
    "category": "Accelerated computing",
    "gpuNum": 1,
    "hideHardwareSpecs": false,
    "memoryGiB": 64,
    "name": "ml.g5.4xlarge",
    "vcpuNum": 16
   },
   {
    "_defaultOrder": 50,
    "_isFastLaunch": false,
    "category": "Accelerated computing",
    "gpuNum": 1,
    "hideHardwareSpecs": false,
    "memoryGiB": 128,
    "name": "ml.g5.8xlarge",
    "vcpuNum": 32
   },
   {
    "_defaultOrder": 51,
    "_isFastLaunch": false,
    "category": "Accelerated computing",
    "gpuNum": 1,
    "hideHardwareSpecs": false,
    "memoryGiB": 256,
    "name": "ml.g5.16xlarge",
    "vcpuNum": 64
   },
   {
    "_defaultOrder": 52,
    "_isFastLaunch": false,
    "category": "Accelerated computing",
    "gpuNum": 4,
    "hideHardwareSpecs": false,
    "memoryGiB": 192,
    "name": "ml.g5.12xlarge",
    "vcpuNum": 48
   },
   {
    "_defaultOrder": 53,
    "_isFastLaunch": false,
    "category": "Accelerated computing",
    "gpuNum": 4,
    "hideHardwareSpecs": false,
    "memoryGiB": 384,
    "name": "ml.g5.24xlarge",
    "vcpuNum": 96
   },
   {
    "_defaultOrder": 54,
    "_isFastLaunch": false,
    "category": "Accelerated computing",
    "gpuNum": 8,
    "hideHardwareSpecs": false,
    "memoryGiB": 768,
    "name": "ml.g5.48xlarge",
    "vcpuNum": 192
   },
   {
    "_defaultOrder": 55,
    "_isFastLaunch": false,
    "category": "Accelerated computing",
    "gpuNum": 8,
    "hideHardwareSpecs": false,
    "memoryGiB": 1152,
    "name": "ml.p4d.24xlarge",
    "vcpuNum": 96
   },
   {
    "_defaultOrder": 56,
    "_isFastLaunch": false,
    "category": "Accelerated computing",
    "gpuNum": 8,
    "hideHardwareSpecs": false,
    "memoryGiB": 1152,
    "name": "ml.p4de.24xlarge",
    "vcpuNum": 96
   },
   {
    "_defaultOrder": 57,
    "_isFastLaunch": false,
    "category": "Accelerated computing",
    "gpuNum": 0,
    "hideHardwareSpecs": false,
    "memoryGiB": 32,
    "name": "ml.trn1.2xlarge",
    "vcpuNum": 8
   },
   {
    "_defaultOrder": 58,
    "_isFastLaunch": false,
    "category": "Accelerated computing",
    "gpuNum": 0,
    "hideHardwareSpecs": false,
    "memoryGiB": 512,
    "name": "ml.trn1.32xlarge",
    "vcpuNum": 128
   },
   {
    "_defaultOrder": 59,
    "_isFastLaunch": false,
    "category": "Accelerated computing",
    "gpuNum": 0,
    "hideHardwareSpecs": false,
    "memoryGiB": 512,
    "name": "ml.trn1n.32xlarge",
    "vcpuNum": 128
   }
  ],
  "instance_type": "ml.t3.medium",
  "kernelspec": {
   "display_name": "Python [conda env:base] *",
   "language": "python",
   "name": "conda-base-py"
  },
  "language_info": {
   "codemirror_mode": {
    "name": "ipython",
    "version": 3
   },
   "file_extension": ".py",
   "mimetype": "text/x-python",
   "name": "python",
   "nbconvert_exporter": "python",
   "pygments_lexer": "ipython3",
   "version": "3.12.3"
  }
 },
 "nbformat": 4,
 "nbformat_minor": 4
}
